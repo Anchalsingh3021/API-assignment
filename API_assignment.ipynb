{
  "nbformat": 4,
  "nbformat_minor": 0,
  "metadata": {
    "colab": {
      "provenance": []
    },
    "kernelspec": {
      "name": "python3",
      "display_name": "Python 3"
    },
    "language_info": {
      "name": "python"
    }
  },
  "cells": [
    {
      "cell_type": "code",
      "execution_count": null,
      "metadata": {
        "id": "GfeXYDlAr8b5"
      },
      "outputs": [],
      "source": []
    },
    {
      "cell_type": "markdown",
      "source": [],
      "metadata": {
        "id": "G1-GyID_sIiD"
      }
    },
    {
      "cell_type": "markdown",
      "source": [
        " ##                             API Assigmnent\n",
        "\n",
        "\n",
        "\n",
        "1. What is a RESTful API\n",
        "   \n",
        "   A RESTful API lets apps talk to each other over the internet using simple rules.\n",
        "   It uses methods like GET, POST, PUT, and DELETE to manage data.\n",
        "   Each item has its own URL, and it doesn’t store info between requests.\n",
        "   It’s popular because it’s easy to use and works well with web and mobile apps.\n",
        "\n",
        "2. Explain the concept of API specification.\n",
        "\n",
        " - An API specification is like a guide or blueprint for how an API works.\n",
        "  It tells developers what endpoints are available, what data to send, and what to expect back.\n",
        "  It includes details like methods (GET, POST, etc.), input formats, and error messages.\n",
        "  Basically, it helps everyone use the API the right way without confusion.\n",
        "\n",
        "3. What is Flask, and why is it popular for building APIs?\n",
        "\n",
        " - Flask is a lightweight web framework in Python used to build web apps and APIs.It’s popular because it’s simple, easy to learn, and very flexible.\n",
        " You can quickly set up routes and handle requests without too much setup.\n",
        " It’s great for small projects and also works well for bigger ones with the right tools.\n",
        "\n",
        "4. What is routing in Flask?\n",
        "\n",
        " - Routing in Flask means connecting a URL to a specific function in your code.  When someone visits a certain page (like `/home`), Flask knows which function to run based on the route you set. You do this using the `@app.route()` decorator. It's how your app knows what to show for each page. Without routing, your app wouldn’t know how to respond to requests.\n",
        "\n",
        "5. How do you create a simple Flask application?\n",
        "\n",
        " - To create a simple Flask application, first install Flask using the command `pip install flask`. Then, create a Python file (like `app.py`) and write a few lines of code. You need to import Flask, create an app object, define a route using `@app.route(\"/\")`, and write a function that returns some text. Finally, run the app using `app.run()`. When you open the browser and go to `http://localhost:5000`, it will show the message you returned.\n",
        "\n",
        "6.  What are HTTP methods used in RESTful APIs?\n",
        "\n",
        " - HTTP methods are used to perform different actions in RESTful APIs. The most common ones are GET to read or fetch data, POST to create new data, PUT to update existing data, and DELETE to remove data. These methods help the API understand what operation the user wants to perform on the data.\n",
        "\n",
        "7. What is the purpose of the @app.route() decorator in Flask?\n",
        "\n",
        " - The `@app.route()` decorator in Flask is used to link a specific URL to a function in your code. It tells Flask which function should run when a user visits that URL. This way, you can create different pages or API endpoints by assigning different routes to different functions. It helps organize your web app and handle requests properly.\n",
        "\n",
        "8. What is the difference between GET and POST HTTP methods?\n",
        "\n",
        " - GET is used to request or fetch data from a server, and the data is sent through the URL, making it visible. It’s mainly used for retrieving information.\n",
        "\n",
        "     POST, on the other hand, is used to send data to the server, like when submitting a form, and the data is sent in the request body, so it’s not visible in the URL. POST is mainly used for creating or updating data.\n",
        "\n",
        "9.  How do you handle errors in Flask APIs?\n",
        "\n",
        " - In Flask APIs, errors are handled using special functions called error handlers. You can create these by using the `@app.errorhandler()` decorator with the error code (like 404 for “Not Found”). Inside the handler, you define what response to send back, such as a custom message or JSON. This way, your API can return clear and friendly error messages instead of default server errors.\n",
        "\n",
        "\n",
        "10.  How do you connect Flask to a SQL database?\n",
        "\n",
        " - To connect Flask to a SQL database, you usually use an extension like Flask-SQLAlchemy. First, install it with `pip install flask-sqlalchemy`. Then, in your Flask app, you configure the database URL (like for SQLite or MySQL). After that, you create a SQLAlchemy object linked to your app. This lets you define database models and easily interact with the database using Python code instead of writing raw SQL queries.\n",
        "\n",
        "11. What is the role of Flask-SQLAlchemy?\n",
        "\n",
        " - Flask-SQLAlchemy makes it easy to work with databases in Flask apps. It acts as a bridge between your Flask app and the database by providing tools to define database tables as Python classes (called models). It also helps you write queries and manage data without using raw SQL. This simplifies database operations and keeps your code clean and organized.\n",
        "\n",
        "12. What are Flask blueprints, and how are they useful?\n",
        "\n",
        " - Flask blueprints let you organize your app into smaller, reusable parts or modules. Instead of putting all your routes and code in one file, you can split them into separate sections using blueprints. This makes your app easier to manage and scale, especially when it gets bigger. Blueprints also help share common functionality across different parts of the app without repeating code.\n",
        "\n",
        "13. What is the purpose of Flask's request object?\n",
        "\n",
        " - Flask’s `request` object holds all the information about the current client’s request. It lets you access things like form data, query parameters, headers, and the request method (GET, POST, etc.). This way, you can read what the user sent to your app and decide how to respond. It’s essential for handling input in your routes.\n",
        "\n",
        "14. How do you create a RESTful API endpoint using Flask?\n",
        "\n",
        " - To create a RESTful API endpoint in Flask, you first define a route using `@app.route()` and specify the URL and allowed HTTP methods (like GET or POST). Inside the function, you handle the request and return data, usually in JSON format using `jsonify()`. This makes it easy for clients to interact with your API by sending requests to that endpoint and getting structured responses.\n",
        "\n",
        "15. What is the purpose of Flask's jsonify() function?\n",
        "\n",
        " - Flask’s `jsonify()` function is used to convert Python data like dictionaries or lists into a JSON response. This is important because APIs usually send data in JSON format so that other apps or clients can easily understand it. Using `jsonify()` also sets the right headers, telling the browser or client that the response is JSON.\n",
        "\n",
        "16. Explain Flask’s url_for() function.\n",
        "\n",
        " - Flask’s `url_for()` function helps you build URLs for your routes by using the function names instead of typing the URLs manually. This is useful because if you change a route’s URL later, you don’t have to update links everywhere in your code. It also makes your code cleaner and less error-prone by generating URLs dynamically.\n",
        "\n",
        "17. How does Flask handle static files (CSS, JavaScript, etc.)?\n",
        "\n",
        " - Flask automatically serves static files like CSS, JavaScript, and images from a folder named `static` in your project. You just put your files inside that folder, and Flask makes them accessible through URLs like `/static/filename`. This way, your web pages can load styles and scripts easily without extra setup.\n",
        "\n",
        "18. What is an API specification, and how does it help in building a Flask API.\n",
        "\n",
        " - An API specification is like a detailed guide that describes how an API should work—what endpoints it has, what data it expects, and what it sends back. It helps developers understand how to use the API and what to build. When creating a Flask API, having a clear specification makes coding easier, ensures everyone agrees on how the API behaves, and helps avoid mistakes.\n",
        "\n",
        "19. What are HTTP status codes, and why are they important in a Flask API?\n",
        "  \n",
        "  - HTTP status codes are numbers sent by the server to tell the client how a request went. For example, 200 means success, 404 means the resource wasn’t found, and 500 means there was a server error. They are important in a Flask API because they help the client understand if their request worked or if something went wrong, making communication clear and reliable.\n",
        "\n",
        "20. How do you handle POST requests in Flask?\n",
        "\n",
        " - To handle POST requests in Flask, you set the route to accept POST methods using `@app.route()` with `methods=['POST']`. Inside the function, you use `request.form` or `request.json` to get the data sent by the client. Then, you process that data as needed and return a response. This way, your app can receive and work with information sent from forms or other clients.\n",
        "\n",
        "21. How would you secure a Flask API?\n",
        "\n",
        " - To secure a Flask API, you can use authentication methods like API keys, tokens (like JWT), or OAuth to make sure only authorized users can access it. Always validate and sanitize input to avoid attacks like SQL injection. Use HTTPS to encrypt data between the client and server. Also, limit the rate of requests to prevent abuse and handle errors carefully so you don’t expose sensitive info.\n",
        "\n",
        "22. What is the significance of the Flask-RESTful extension?\n",
        "\n",
        " - Flask-RESTful is an extension that helps you build RESTful APIs more easily in Flask. It adds helpful tools like the `Resource` class to organize your code and handle different HTTP methods cleanly. It also makes routing, error handling, and input parsing simpler. This saves time and keeps your API code more structured and readable.\n",
        "\n",
        "23. What is the role of Flask’s session object?\n",
        "\n",
        " - Flask’s `session` object is used to store information about a user across multiple requests, like login status or user preferences. It works like a temporary memory for each user. The data is stored securely using cookies and is encrypted by Flask. This helps keep track of users without needing a database for every small detail.\n",
        "\n",
        "\n",
        "\n",
        "\n",
        "\n",
        "\n",
        "\n",
        "\n",
        "\n",
        "\n",
        "\n",
        "\n",
        "\n",
        "\n",
        "\n",
        "\n",
        "\n",
        "\n",
        "\n"
      ],
      "metadata": {
        "id": "wD6Aur50sJb7"
      }
    },
    {
      "cell_type": "code",
      "source": [
        "# 1. How do you create a basic Flask application?\n",
        "\n",
        "from flask import Flask\n",
        "app = Flask(__name__)\n",
        "\n",
        "@app.route(\"/\")\n",
        "def home():\n",
        "    return \"Hello, Flask!\"\n",
        "\n",
        "if __name__ == \"__main__\":\n",
        "    app.run()\n"
      ],
      "metadata": {
        "colab": {
          "base_uri": "https://localhost:8080/"
        },
        "id": "8_Zv_tXH4B5y",
        "outputId": "b1c3b1b9-6d72-4c8c-a875-2151e9c20b5b"
      },
      "execution_count": null,
      "outputs": [
        {
          "output_type": "stream",
          "name": "stdout",
          "text": [
            " * Serving Flask app '__main__'\n",
            " * Debug mode: off\n"
          ]
        },
        {
          "output_type": "stream",
          "name": "stderr",
          "text": [
            "INFO:werkzeug:\u001b[31m\u001b[1mWARNING: This is a development server. Do not use it in a production deployment. Use a production WSGI server instead.\u001b[0m\n",
            " * Running on http://127.0.0.1:5000\n",
            "INFO:werkzeug:\u001b[33mPress CTRL+C to quit\u001b[0m\n"
          ]
        }
      ]
    },
    {
      "cell_type": "code",
      "source": [
        "# 2. How do you serve static files like images or CSS in Flask.\n",
        "\n",
        " <link rel=\"stylesheet\" href=\"{{ url_for('static', filename='style.css') }}\">"
      ],
      "metadata": {
        "id": "VyOkgKTkQ9fO"
      },
      "execution_count": null,
      "outputs": []
    },
    {
      "cell_type": "code",
      "source": [
        "# 3. How do you define different routes with different HTTP methods in Flask.\n",
        "\n",
        "from flask import Flask, request\n",
        "app = Flask(__name__)\n",
        "\n",
        "@app.route('/get-example', methods=['GET'])\n",
        "def get_data():\n",
        "    return \"This is a GET request\"\n",
        "\n",
        "@app.route('/post-example', methods=['POST'])\n",
        "def post_data():\n",
        "    return \"This is a POST request\"\n"
      ],
      "metadata": {
        "id": "08pvU0t_6_Fa"
      },
      "execution_count": null,
      "outputs": []
    },
    {
      "cell_type": "code",
      "source": [
        "# 4. How do you render HTML templates in Flask.\n",
        "\n",
        "!mkdir templates\n",
        "\n",
        "# Create a simple HTML file\n",
        "with open(\"templates/index.html\", \"w\") as f:\n",
        "    f.write(\"\"\"\n",
        "    <html>\n",
        "      <head><title>Flask Template</title></head>\n",
        "      <body><h1>Hello from Flask in Colab!</h1></body>\n",
        "    </html>\n",
        "    \"\"\")\n",
        "\n",
        "from flask import Flask, render_template\n",
        "app = Flask(__name__)\n",
        "\n",
        "@app.route(\"/\")\n",
        "def home():\n",
        "    return render_template(\"index.html\")\n",
        "\n",
        "if __name__ == \"__main__\":\n",
        "    app.run()\n"
      ],
      "metadata": {
        "colab": {
          "base_uri": "https://localhost:8080/"
        },
        "id": "7JEQxlSy7JF8",
        "outputId": "180be9d9-3bf9-4b64-c603-7d13a3d45056"
      },
      "execution_count": null,
      "outputs": [
        {
          "output_type": "stream",
          "name": "stdout",
          "text": [
            "mkdir: cannot create directory ‘templates’: File exists\n",
            " * Serving Flask app '__main__'\n",
            " * Debug mode: off\n"
          ]
        },
        {
          "output_type": "stream",
          "name": "stderr",
          "text": [
            "INFO:werkzeug:\u001b[31m\u001b[1mWARNING: This is a development server. Do not use it in a production deployment. Use a production WSGI server instead.\u001b[0m\n",
            " * Running on http://127.0.0.1:5000\n",
            "INFO:werkzeug:\u001b[33mPress CTRL+C to quit\u001b[0m\n"
          ]
        }
      ]
    },
    {
      "cell_type": "code",
      "source": [
        "# 5. How can you generate URLs for routes in Flask using url_for.\n",
        "\n",
        "from flask import Flask, url_for\n",
        "\n",
        "app = Flask(__name__)\n",
        "\n",
        "@app.route('/user/<username>')\n",
        "def profile(username):\n",
        "    return f\"User: {username}\"\n",
        "\n",
        "@app.route('/')\n",
        "def index():\n",
        "    # Generate URL for 'profile' route\n",
        "    return url_for('profile', username='john_doe')\n"
      ],
      "metadata": {
        "id": "bM3YRinuE91e"
      },
      "execution_count": 7,
      "outputs": []
    },
    {
      "cell_type": "code",
      "source": [
        "# 6. How do you handle forms in Flask.\n",
        "\n",
        "from flask import Flask, request, render_template_string\n",
        "\n",
        "app = Flask(__name__)\n",
        "\n",
        "# Display form\n",
        "@app.route('/')\n",
        "def form():\n",
        "    return '''\n",
        "    <form method=\"POST\" action=\"/submit\">\n",
        "        <input type=\"text\" name=\"username\" placeholder=\"Enter your name\">\n",
        "        <input type=\"submit\" value=\"Submit\">\n",
        "    </form>\n",
        "    '''\n",
        "\n",
        "# Handle form data\n",
        "@app.route('/submit', methods=['POST'])\n",
        "def submit():\n",
        "    username = request.form['username']  # Get data from form\n",
        "    return f\"Hello, {username}!\"\n"
      ],
      "metadata": {
        "id": "511HDbevG0rT"
      },
      "execution_count": 10,
      "outputs": []
    },
    {
      "cell_type": "code",
      "source": [
        "# 7. How can you validate form data in Flask.\n",
        "\n",
        "# Install flask-ngrok\n",
        "!pip install flask-ngrok\n",
        "\n",
        "# Import required modules\n",
        "from flask import Flask, request\n",
        "from flask_ngrok import run_with_ngrok\n",
        "\n",
        "# Create Flask app\n",
        "app = Flask(__name__)\n",
        "run_with_ngrok(app)  # This starts ngrok when the app runs\n",
        "\n",
        "# Route to show the form\n",
        "@app.route('/')\n",
        "def form():\n",
        "    return '''\n",
        "    <form method=\"POST\" action=\"/submit\">\n",
        "        <input type=\"text\" name=\"username\" placeholder=\"Enter your name\">\n",
        "        <input type=\"submit\" value=\"Submit\">\n",
        "    </form>\n",
        "    '''\n",
        "\n",
        "# Route to handle form submission\n",
        "@app.route('/submit', methods=['POST'])\n",
        "def submit():\n",
        "    username = request.form['username']\n",
        "    return f\"<h1>Hello, {username}!</h1>\"\n",
        "\n",
        "# Run the app\n",
        "app.run()\n"
      ],
      "metadata": {
        "colab": {
          "base_uri": "https://localhost:8080/"
        },
        "id": "wblFetdXHmV0",
        "outputId": "1d0d4472-fa04-4137-e542-df5f5fc99eea"
      },
      "execution_count": 11,
      "outputs": [
        {
          "output_type": "stream",
          "name": "stdout",
          "text": [
            "Requirement already satisfied: flask-ngrok in /usr/local/lib/python3.11/dist-packages (0.0.25)\n",
            "Requirement already satisfied: Flask>=0.8 in /usr/local/lib/python3.11/dist-packages (from flask-ngrok) (3.1.1)\n",
            "Requirement already satisfied: requests in /usr/local/lib/python3.11/dist-packages (from flask-ngrok) (2.32.3)\n",
            "Requirement already satisfied: blinker>=1.9.0 in /usr/local/lib/python3.11/dist-packages (from Flask>=0.8->flask-ngrok) (1.9.0)\n",
            "Requirement already satisfied: click>=8.1.3 in /usr/local/lib/python3.11/dist-packages (from Flask>=0.8->flask-ngrok) (8.2.1)\n",
            "Requirement already satisfied: itsdangerous>=2.2.0 in /usr/local/lib/python3.11/dist-packages (from Flask>=0.8->flask-ngrok) (2.2.0)\n",
            "Requirement already satisfied: jinja2>=3.1.2 in /usr/local/lib/python3.11/dist-packages (from Flask>=0.8->flask-ngrok) (3.1.6)\n",
            "Requirement already satisfied: markupsafe>=2.1.1 in /usr/local/lib/python3.11/dist-packages (from Flask>=0.8->flask-ngrok) (3.0.2)\n",
            "Requirement already satisfied: werkzeug>=3.1.0 in /usr/local/lib/python3.11/dist-packages (from Flask>=0.8->flask-ngrok) (3.1.3)\n",
            "Requirement already satisfied: charset-normalizer<4,>=2 in /usr/local/lib/python3.11/dist-packages (from requests->flask-ngrok) (3.4.2)\n",
            "Requirement already satisfied: idna<4,>=2.5 in /usr/local/lib/python3.11/dist-packages (from requests->flask-ngrok) (3.10)\n",
            "Requirement already satisfied: urllib3<3,>=1.21.1 in /usr/local/lib/python3.11/dist-packages (from requests->flask-ngrok) (2.5.0)\n",
            "Requirement already satisfied: certifi>=2017.4.17 in /usr/local/lib/python3.11/dist-packages (from requests->flask-ngrok) (2025.7.14)\n",
            " * Serving Flask app '__main__'\n",
            " * Debug mode: off\n"
          ]
        },
        {
          "output_type": "stream",
          "name": "stderr",
          "text": [
            "INFO:werkzeug:\u001b[31m\u001b[1mWARNING: This is a development server. Do not use it in a production deployment. Use a production WSGI server instead.\u001b[0m\n",
            " * Running on http://127.0.0.1:5000\n",
            "INFO:werkzeug:\u001b[33mPress CTRL+C to quit\u001b[0m\n",
            "Exception in thread Thread-10:\n",
            "Traceback (most recent call last):\n",
            "  File \"/usr/local/lib/python3.11/dist-packages/urllib3/connection.py\", line 198, in _new_conn\n",
            "    sock = connection.create_connection(\n",
            "           ^^^^^^^^^^^^^^^^^^^^^^^^^^^^^\n",
            "  File \"/usr/local/lib/python3.11/dist-packages/urllib3/util/connection.py\", line 85, in create_connection\n",
            "    raise err\n",
            "  File \"/usr/local/lib/python3.11/dist-packages/urllib3/util/connection.py\", line 73, in create_connection\n",
            "    sock.connect(sa)\n",
            "ConnectionRefusedError: [Errno 111] Connection refused\n",
            "\n",
            "The above exception was the direct cause of the following exception:\n",
            "\n",
            "Traceback (most recent call last):\n",
            "  File \"/usr/local/lib/python3.11/dist-packages/urllib3/connectionpool.py\", line 787, in urlopen\n",
            "    response = self._make_request(\n",
            "               ^^^^^^^^^^^^^^^^^^^\n",
            "  File \"/usr/local/lib/python3.11/dist-packages/urllib3/connectionpool.py\", line 493, in _make_request\n",
            "    conn.request(\n",
            "  File \"/usr/local/lib/python3.11/dist-packages/urllib3/connection.py\", line 494, in request\n",
            "    self.endheaders()\n",
            "  File \"/usr/lib/python3.11/http/client.py\", line 1298, in endheaders\n",
            "    self._send_output(message_body, encode_chunked=encode_chunked)\n",
            "  File \"/usr/lib/python3.11/http/client.py\", line 1058, in _send_output\n",
            "    self.send(msg)\n",
            "  File \"/usr/lib/python3.11/http/client.py\", line 996, in send\n",
            "    self.connect()\n",
            "  File \"/usr/local/lib/python3.11/dist-packages/urllib3/connection.py\", line 325, in connect\n",
            "    self.sock = self._new_conn()\n",
            "                ^^^^^^^^^^^^^^^^\n",
            "  File \"/usr/local/lib/python3.11/dist-packages/urllib3/connection.py\", line 213, in _new_conn\n",
            "    raise NewConnectionError(\n",
            "urllib3.exceptions.NewConnectionError: <urllib3.connection.HTTPConnection object at 0x7a1fc4416ad0>: Failed to establish a new connection: [Errno 111] Connection refused\n",
            "\n",
            "The above exception was the direct cause of the following exception:\n",
            "\n",
            "Traceback (most recent call last):\n",
            "  File \"/usr/local/lib/python3.11/dist-packages/requests/adapters.py\", line 667, in send\n",
            "    resp = conn.urlopen(\n",
            "           ^^^^^^^^^^^^^\n",
            "  File \"/usr/local/lib/python3.11/dist-packages/urllib3/connectionpool.py\", line 841, in urlopen\n",
            "    retries = retries.increment(\n",
            "              ^^^^^^^^^^^^^^^^^^\n",
            "  File \"/usr/local/lib/python3.11/dist-packages/urllib3/util/retry.py\", line 519, in increment\n",
            "    raise MaxRetryError(_pool, url, reason) from reason  # type: ignore[arg-type]\n",
            "    ^^^^^^^^^^^^^^^^^^^^^^^^^^^^^^^^^^^^^^^^^^^^^^^^^^^\n",
            "urllib3.exceptions.MaxRetryError: HTTPConnectionPool(host='localhost', port=4040): Max retries exceeded with url: /api/tunnels (Caused by NewConnectionError('<urllib3.connection.HTTPConnection object at 0x7a1fc4416ad0>: Failed to establish a new connection: [Errno 111] Connection refused'))\n",
            "\n",
            "During handling of the above exception, another exception occurred:\n",
            "\n",
            "Traceback (most recent call last):\n",
            "  File \"/usr/lib/python3.11/threading.py\", line 1045, in _bootstrap_inner\n",
            "    self.run()\n",
            "  File \"/usr/lib/python3.11/threading.py\", line 1401, in run\n",
            "    self.function(*self.args, **self.kwargs)\n",
            "  File \"/usr/local/lib/python3.11/dist-packages/flask_ngrok.py\", line 70, in start_ngrok\n",
            "    ngrok_address = _run_ngrok()\n",
            "                    ^^^^^^^^^^^^\n",
            "  File \"/usr/local/lib/python3.11/dist-packages/flask_ngrok.py\", line 35, in _run_ngrok\n",
            "    tunnel_url = requests.get(localhost_url).text  # Get the tunnel information\n",
            "                 ^^^^^^^^^^^^^^^^^^^^^^^^^^^\n",
            "  File \"/usr/local/lib/python3.11/dist-packages/requests/api.py\", line 73, in get\n",
            "    return request(\"get\", url, params=params, **kwargs)\n",
            "           ^^^^^^^^^^^^^^^^^^^^^^^^^^^^^^^^^^^^^^^^^^^^\n",
            "  File \"/usr/local/lib/python3.11/dist-packages/requests/api.py\", line 59, in request\n",
            "    return session.request(method=method, url=url, **kwargs)\n",
            "           ^^^^^^^^^^^^^^^^^^^^^^^^^^^^^^^^^^^^^^^^^^^^^^^^^\n",
            "  File \"/usr/local/lib/python3.11/dist-packages/requests/sessions.py\", line 589, in request\n",
            "    resp = self.send(prep, **send_kwargs)\n",
            "           ^^^^^^^^^^^^^^^^^^^^^^^^^^^^^^\n",
            "  File \"/usr/local/lib/python3.11/dist-packages/requests/sessions.py\", line 703, in send\n",
            "    r = adapter.send(request, **kwargs)\n",
            "        ^^^^^^^^^^^^^^^^^^^^^^^^^^^^^^^\n",
            "  File \"/usr/local/lib/python3.11/dist-packages/requests/adapters.py\", line 700, in send\n",
            "    raise ConnectionError(e, request=request)\n",
            "requests.exceptions.ConnectionError: HTTPConnectionPool(host='localhost', port=4040): Max retries exceeded with url: /api/tunnels (Caused by NewConnectionError('<urllib3.connection.HTTPConnection object at 0x7a1fc4416ad0>: Failed to establish a new connection: [Errno 111] Connection refused'))\n"
          ]
        }
      ]
    },
    {
      "cell_type": "code",
      "source": [
        "# 8. How do you manage sessions in Flask\n",
        "\n",
        "from flask import Flask, session, redirect, url_for, request\n",
        "\n",
        "app = Flask(__name__)\n",
        "app.secret_key = 'your_secret_key'  # Required to use session\n",
        "\n",
        "@app.route('/')\n",
        "def home():\n",
        "    if 'username' in session:\n",
        "        return f\"Hello {session['username']}!\"\n",
        "    return 'You are not logged in.'\n",
        "\n",
        "@app.route('/login', methods=['POST', 'GET'])\n",
        "def login():\n",
        "    if request.method == 'POST':\n",
        "        session['username'] = request.form['username']  # Save in session\n",
        "        return redirect(url_for('home'))\n",
        "    return '''\n",
        "        <form method=\"post\">\n",
        "            <input type=\"text\" name=\"username\">\n",
        "            <input type=\"submit\" value=\"Login\">\n",
        "        </form>\n",
        "    '''\n",
        "\n",
        "@app.route('/logout')\n",
        "def logout():\n",
        "    session.pop('username', None)  # Remove from session\n",
        "    return redirect(url_for('home'))\n",
        "\n",
        "if __name__ == '__main__':\n",
        "    app.run(debug=True)\n"
      ],
      "metadata": {
        "colab": {
          "base_uri": "https://localhost:8080/"
        },
        "id": "yyI59wIsJPJi",
        "outputId": "34dc143f-8103-44dd-9fd5-7c26a0c44980"
      },
      "execution_count": 13,
      "outputs": [
        {
          "output_type": "stream",
          "name": "stdout",
          "text": [
            " * Serving Flask app '__main__'\n",
            " * Debug mode: on\n"
          ]
        },
        {
          "output_type": "stream",
          "name": "stderr",
          "text": [
            "INFO:werkzeug:\u001b[31m\u001b[1mWARNING: This is a development server. Do not use it in a production deployment. Use a production WSGI server instead.\u001b[0m\n",
            " * Running on http://127.0.0.1:5000\n",
            "INFO:werkzeug:\u001b[33mPress CTRL+C to quit\u001b[0m\n",
            "INFO:werkzeug: * Restarting with stat\n"
          ]
        }
      ]
    },
    {
      "cell_type": "code",
      "source": [
        "# 9. How do you redirect to a different route in Flask.\n",
        "\n",
        "from flask import Flask, redirect, url_for\n",
        "\n",
        "app = Flask(__name__)\n",
        "\n",
        "@app.route('/')\n",
        "def home():\n",
        "    return 'Welcome to Home!'\n",
        "\n",
        "@app.route('/go-to-about')\n",
        "def go_to_about():\n",
        "    return redirect(url_for('about'))\n",
        "\n",
        "@app.route('/about')\n",
        "def about():\n",
        "    return 'This is the About page.'\n",
        "\n",
        "if __name__ == '__main__':\n",
        "    app.run(debug=True)\n"
      ],
      "metadata": {
        "colab": {
          "base_uri": "https://localhost:8080/"
        },
        "id": "RF0c9uc_KFvq",
        "outputId": "b778a671-0185-430d-be9d-3f93a872cac7"
      },
      "execution_count": 14,
      "outputs": [
        {
          "output_type": "stream",
          "name": "stdout",
          "text": [
            " * Serving Flask app '__main__'\n",
            " * Debug mode: on\n"
          ]
        },
        {
          "output_type": "stream",
          "name": "stderr",
          "text": [
            "INFO:werkzeug:\u001b[31m\u001b[1mWARNING: This is a development server. Do not use it in a production deployment. Use a production WSGI server instead.\u001b[0m\n",
            " * Running on http://127.0.0.1:5000\n",
            "INFO:werkzeug:\u001b[33mPress CTRL+C to quit\u001b[0m\n",
            "INFO:werkzeug: * Restarting with stat\n"
          ]
        }
      ]
    },
    {
      "cell_type": "code",
      "source": [
        "# 10. How do you handle errors in Flask (e.g., 404).\n",
        "\n",
        "from flask import Flask, render_template_string\n",
        "\n",
        "app = Flask(__name__)\n",
        "\n",
        "@app.route('/')\n",
        "def home():\n",
        "    return 'Welcome to Home!'\n",
        "\n",
        "@app.errorhandler(404)\n",
        "def page_not_found(e):\n",
        "    return render_template_string('<h1>404 Error</h1><p>Page not found!</p>'), 404\n",
        "\n",
        "if __name__ == '__main__':\n",
        "    app.run(debug=True)\n",
        "\n"
      ],
      "metadata": {
        "colab": {
          "base_uri": "https://localhost:8080/"
        },
        "id": "T3y4i2ltKTAB",
        "outputId": "4ea41ecd-6278-4e90-8348-71828230d9b9"
      },
      "execution_count": 15,
      "outputs": [
        {
          "output_type": "stream",
          "name": "stdout",
          "text": [
            " * Serving Flask app '__main__'\n",
            " * Debug mode: on\n"
          ]
        },
        {
          "output_type": "stream",
          "name": "stderr",
          "text": [
            "INFO:werkzeug:\u001b[31m\u001b[1mWARNING: This is a development server. Do not use it in a production deployment. Use a production WSGI server instead.\u001b[0m\n",
            " * Running on http://127.0.0.1:5000\n",
            "INFO:werkzeug:\u001b[33mPress CTRL+C to quit\u001b[0m\n",
            "INFO:werkzeug: * Restarting with stat\n"
          ]
        }
      ]
    },
    {
      "cell_type": "code",
      "source": [
        "# 11. How do you structure a Flask app using Blueprints.\n",
        "\n",
        "from flask import Flask\n",
        "from myblueprint import bp  # Import the Blueprint\n",
        "\n",
        "app = Flask(__name__)\n",
        "app.register_blueprint(bp, url_prefix='/my')  # Register Blueprint with a URL prefix\n",
        "\n",
        "@app.route('/')\n",
        "def home():\n",
        "    return 'Home Page'\n",
        "\n",
        "if __name__ == '__main__':\n",
        "    app.run(debug=True)\n"
      ],
      "metadata": {
        "colab": {
          "base_uri": "https://localhost:8080/",
          "height": 397
        },
        "id": "vlG8dyYSKdJ3",
        "outputId": "b2bdc4bf-15bf-471c-b6f2-0e6cd296ac34"
      },
      "execution_count": 27,
      "outputs": [
        {
          "output_type": "error",
          "ename": "ModuleNotFoundError",
          "evalue": "No module named 'myblueprint'",
          "traceback": [
            "\u001b[0;31m---------------------------------------------------------------------------\u001b[0m",
            "\u001b[0;31mModuleNotFoundError\u001b[0m                       Traceback (most recent call last)",
            "\u001b[0;32m/tmp/ipython-input-27-3082294384.py\u001b[0m in \u001b[0;36m<cell line: 0>\u001b[0;34m()\u001b[0m\n\u001b[1;32m      2\u001b[0m \u001b[0;34m\u001b[0m\u001b[0m\n\u001b[1;32m      3\u001b[0m \u001b[0;32mfrom\u001b[0m \u001b[0mflask\u001b[0m \u001b[0;32mimport\u001b[0m \u001b[0mFlask\u001b[0m\u001b[0;34m\u001b[0m\u001b[0;34m\u001b[0m\u001b[0m\n\u001b[0;32m----> 4\u001b[0;31m \u001b[0;32mfrom\u001b[0m \u001b[0mmyblueprint\u001b[0m \u001b[0;32mimport\u001b[0m \u001b[0mbp\u001b[0m  \u001b[0;31m# Import the Blueprint\u001b[0m\u001b[0;34m\u001b[0m\u001b[0;34m\u001b[0m\u001b[0m\n\u001b[0m\u001b[1;32m      5\u001b[0m \u001b[0;34m\u001b[0m\u001b[0m\n\u001b[1;32m      6\u001b[0m \u001b[0mapp\u001b[0m \u001b[0;34m=\u001b[0m \u001b[0mFlask\u001b[0m\u001b[0;34m(\u001b[0m\u001b[0m__name__\u001b[0m\u001b[0;34m)\u001b[0m\u001b[0;34m\u001b[0m\u001b[0;34m\u001b[0m\u001b[0m\n",
            "\u001b[0;31mModuleNotFoundError\u001b[0m: No module named 'myblueprint'",
            "",
            "\u001b[0;31m---------------------------------------------------------------------------\u001b[0;32m\nNOTE: If your import is failing due to a missing package, you can\nmanually install dependencies using either !pip or !apt.\n\nTo view examples of installing some common dependencies, click the\n\"Open Examples\" button below.\n\u001b[0;31m---------------------------------------------------------------------------\u001b[0m\n"
          ],
          "errorDetails": {
            "actions": [
              {
                "action": "open_url",
                "actionText": "Open Examples",
                "url": "/notebooks/snippets/importing_libraries.ipynb"
              }
            ]
          }
        }
      ]
    },
    {
      "cell_type": "code",
      "source": [
        "# 12.  How do you define a custom Jinja filter in Flask.\n",
        "\n",
        "from flask import Flask, render_template_string\n",
        "\n",
        "app = Flask(__name__)\n",
        "\n",
        "# Define a custom filter function\n",
        "def reverse_string(s):\n",
        "    return s[::-1]\n",
        "\n",
        "# Register the filter with Flask\n",
        "app.template_filter('reverse')(reverse_string)\n",
        "\n",
        "@app.route('/')\n",
        "def home():\n",
        "    return render_template_string('Original: {{ text }} | Reversed: {{ text|reverse }}', text='Flask')\n",
        "\n",
        "if __name__ == '__main__':\n",
        "    app.run(debug=True)\n"
      ],
      "metadata": {
        "colab": {
          "base_uri": "https://localhost:8080/"
        },
        "id": "RKWdcXtqL4ws",
        "outputId": "d11b0d19-4315-4e0b-b45e-2377d0999569"
      },
      "execution_count": 19,
      "outputs": [
        {
          "output_type": "stream",
          "name": "stdout",
          "text": [
            " * Serving Flask app '__main__'\n",
            " * Debug mode: on\n"
          ]
        },
        {
          "output_type": "stream",
          "name": "stderr",
          "text": [
            "INFO:werkzeug:\u001b[31m\u001b[1mWARNING: This is a development server. Do not use it in a production deployment. Use a production WSGI server instead.\u001b[0m\n",
            " * Running on http://127.0.0.1:5000\n",
            "INFO:werkzeug:\u001b[33mPress CTRL+C to quit\u001b[0m\n",
            "INFO:werkzeug: * Restarting with stat\n"
          ]
        }
      ]
    },
    {
      "cell_type": "code",
      "source": [
        "# 13. How can you redirect with query parameters in Flask.\n",
        "\n",
        "from flask import Flask, redirect, url_for, request\n",
        "\n",
        "app = Flask(__name__)\n",
        "\n",
        "@app.route('/')\n",
        "def home():\n",
        "    user = request.args.get('name', 'User')\n",
        "    return f'Welcome, {user}!'\n",
        "\n",
        "@app.route('/redirect')\n",
        "def redirect_to_home():\n",
        "    return redirect(url_for('home', name='Visitor'))\n",
        "\n",
        "if __name__ == '__main__':\n",
        "    app.run(debug=True)\n"
      ],
      "metadata": {
        "colab": {
          "base_uri": "https://localhost:8080/"
        },
        "id": "Eq0Sh-KbMLhV",
        "outputId": "eb13fe73-2093-4c31-f1ef-972d5ca135ae"
      },
      "execution_count": 28,
      "outputs": [
        {
          "output_type": "stream",
          "name": "stdout",
          "text": [
            " * Serving Flask app '__main__'\n",
            " * Debug mode: on\n"
          ]
        },
        {
          "output_type": "stream",
          "name": "stderr",
          "text": [
            "INFO:werkzeug:\u001b[31m\u001b[1mWARNING: This is a development server. Do not use it in a production deployment. Use a production WSGI server instead.\u001b[0m\n",
            " * Running on http://127.0.0.1:5000\n",
            "INFO:werkzeug:\u001b[33mPress CTRL+C to quit\u001b[0m\n",
            "INFO:werkzeug: * Restarting with stat\n"
          ]
        }
      ]
    },
    {
      "cell_type": "code",
      "source": [
        "# 14. How do you return JSON responses in Flask.\n",
        "\n",
        "from flask import Flask, jsonify\n",
        "\n",
        "app = Flask(__name__)\n",
        "\n",
        "@app.route('/api/data')\n",
        "def data():\n",
        "    sample_data = {\n",
        "        'language': 'Python',\n",
        "        'framework': 'Flask'\n",
        "    }\n",
        "    return jsonify(sample_data)\n",
        "\n",
        "if __name__ == '__main__':\n",
        "    app.run(debug=True)\n"
      ],
      "metadata": {
        "colab": {
          "base_uri": "https://localhost:8080/"
        },
        "id": "8sdOOnQ9Mk9P",
        "outputId": "737225c6-7759-4f29-c2bb-981145148b45"
      },
      "execution_count": 22,
      "outputs": [
        {
          "output_type": "stream",
          "name": "stdout",
          "text": [
            " * Serving Flask app '__main__'\n",
            " * Debug mode: on\n"
          ]
        },
        {
          "output_type": "stream",
          "name": "stderr",
          "text": [
            "INFO:werkzeug:\u001b[31m\u001b[1mWARNING: This is a development server. Do not use it in a production deployment. Use a production WSGI server instead.\u001b[0m\n",
            " * Running on http://127.0.0.1:5000\n",
            "INFO:werkzeug:\u001b[33mPress CTRL+C to quit\u001b[0m\n",
            "INFO:werkzeug: * Restarting with stat\n"
          ]
        }
      ]
    },
    {
      "cell_type": "code",
      "source": [
        "# 15. How do you capture URL parameters in Flask.\n",
        "\n",
        "from flask import Flask\n",
        "\n",
        "app = Flask(__name__)\n",
        "\n",
        "@app.route('/user/<username>')\n",
        "def show_user(username):\n",
        "    return f'User: {username}'\n",
        "\n",
        "@app.route('/post/<int:post_id>')\n",
        "def show_post(post_id):\n",
        "    return f'Post ID: {post_id}'\n",
        "\n",
        "if __name__ == '__main__':\n",
        "    app.run(debug=True)\n",
        "\n"
      ],
      "metadata": {
        "colab": {
          "base_uri": "https://localhost:8080/"
        },
        "id": "immPoQ1FOMqJ",
        "outputId": "095c604d-9b53-4487-8ed2-f50a309635de"
      },
      "execution_count": 24,
      "outputs": [
        {
          "output_type": "stream",
          "name": "stdout",
          "text": [
            " * Serving Flask app '__main__'\n",
            " * Debug mode: on\n"
          ]
        },
        {
          "output_type": "stream",
          "name": "stderr",
          "text": [
            "INFO:werkzeug:\u001b[31m\u001b[1mWARNING: This is a development server. Do not use it in a production deployment. Use a production WSGI server instead.\u001b[0m\n",
            " * Running on http://127.0.0.1:5000\n",
            "INFO:werkzeug:\u001b[33mPress CTRL+C to quit\u001b[0m\n",
            "INFO:werkzeug: * Restarting with stat\n"
          ]
        }
      ]
    }
  ]
}